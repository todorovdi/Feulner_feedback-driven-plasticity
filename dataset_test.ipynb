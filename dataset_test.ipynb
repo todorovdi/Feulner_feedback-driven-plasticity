{
 "cells": [
  {
   "cell_type": "code",
   "execution_count": 45,
   "metadata": {},
   "outputs": [],
   "source": [
    "import numpy as np\n",
    "from matplotlib import pyplot as plt"
   ]
  },
  {
   "cell_type": "markdown",
   "metadata": {},
   "source": [
    "## <b>My understanding portion"
   ]
  },
  {
   "cell_type": "markdown",
   "metadata": {},
   "source": [
    "### Helper Plotter function"
   ]
  },
  {
   "cell_type": "code",
   "execution_count": 32,
   "metadata": {},
   "outputs": [],
   "source": [
    "def scatter_plotter(x_data, y_data):\n",
    "    plt.figure(figsize=(8,6))\n",
    "    plt.tight_layout()\n",
    "    plt.scatter(x_data, y_data, s=10, c='violet', edgecolors='black', linewidths=1)\n",
    "    plt.show()"
   ]
  },
  {
   "cell_type": "markdown",
   "metadata": {},
   "source": [
    "### Parameters for dataset creation"
   ]
  },
  {
   "cell_type": "code",
   "execution_count": 23,
   "metadata": {},
   "outputs": [],
   "source": [
    "data_params = { 'ntrials': 2000,\n",
    "                'tsteps': 300,\n",
    "                'dt': 0.01,\n",
    "                'input_dim': 7,\n",
    "                'output_dim': 4,\n",
    "                'vel': 10,\n",
    "                'p_test': 0.1,\n",
    "                'go_to_peak': 50,\n",
    "                'stim_on': 20,\n",
    "                'random': {'output_range': [-6, 6], 'go_range': [70, 220]},\n",
    "                'center-out-reach': {'output_range': 5,'ntargets': 8, 'go_range': [170, 220]}}\n"
   ]
  },
  {
   "cell_type": "markdown",
   "metadata": {},
   "source": [
    "### Some Test snippets"
   ]
  },
  {
   "cell_type": "code",
   "execution_count": 4,
   "metadata": {},
   "outputs": [],
   "source": [
    "# # PARAMS #################################\n",
    "# ntrials = data_params['ntrials'] #2000\n",
    "# tsteps = data_params['tsteps'] # 300\n",
    "# dt = data_params['dt'] # 0.01\n",
    "# input_dim = data_params['input_dim'] # 7\n",
    "# output_dim = data_params['output_dim'] # 4\n",
    "# vel = data_params['vel'] # 10\n",
    "# p_test = data_params['p_test'] # 0.1\n",
    "# go_to_peak = data_params['go_to_peak'] # 50\n",
    "# stim_on = data_params['stim_on'] # 20\n",
    "\n",
    "#     # random reach dataset params\n",
    "# output_range = data_params['random']['output_range'] # -6,6\n",
    "# go_range = data_params['random']['go_range'] # 70,220\n",
    "# ##########################################\n",
    "\n",
    "# # create artifical data\n",
    "# start_point = np.random.uniform(output_range[0],output_range[1],(ntrials,2)) # uniform random numbers between -6,6 of shape (2000,2)\n",
    "# end_point = np.random.uniform(output_range[0],output_range[1],(ntrials,2)) # uniform random numbers between -6,6 of shape (2000,2)\n",
    "# go_on = np.random.uniform(go_range[0],go_range[1],ntrials).astype(int) # uniform random numbers between 70, 220 of shape (2000,)\n",
    "\n",
    "# print(go_on.mean())\n",
    "# # print(f\"output_range = {go_range[0]}, {go_range[1]}\")"
   ]
  },
  {
   "cell_type": "code",
   "execution_count": 5,
   "metadata": {},
   "outputs": [],
   "source": [
    "# start_point[0]\n",
    "# end_point[0]"
   ]
  },
  {
   "cell_type": "code",
   "execution_count": 6,
   "metadata": {},
   "outputs": [],
   "source": [
    "# x, y = [], []\n",
    "# for i in range(len(start_point)):\n",
    "#     x.append(start_point[i][0])\n",
    "#     y.append(start_point[i][1])\n",
    "# scatter_plotter(x,y)\n"
   ]
  },
  {
   "cell_type": "code",
   "execution_count": 7,
   "metadata": {},
   "outputs": [],
   "source": [
    "# ntrials = start_point.shape[0] #ntrials = 2000\n",
    "\n",
    "# # sigmoid function for data\n",
    "# def sig(x,beta):\n",
    "#     return 1/(1+np.exp(-x*beta))\n",
    "\n",
    "# # prepare xaxis for smooth transition\n",
    "# xx = np.linspace(-1,1,100,endpoint=False) # 100 points between -1 and 1\n",
    "# ytemp = sig(xx,vel) # 100 points between 0 to 1, \n",
    "# print(ytemp.shape)\n",
    "\n",
    "# plt.plot(xx, ytemp)"
   ]
  },
  {
   "cell_type": "markdown",
   "metadata": {},
   "source": [
    "## <b>Actual Data preparation portion"
   ]
  },
  {
   "cell_type": "markdown",
   "metadata": {},
   "source": [
    "### Some Snippets for understanding the generated data"
   ]
  },
  {
   "cell_type": "code",
   "execution_count": null,
   "metadata": {},
   "outputs": [],
   "source": [
    "# # Toy for understanding\n",
    "# target = np.zeros((2,tsteps,output_dim)) # 2 x 300 x 4\n",
    "# print(target.shape)\n",
    "\n",
    "# target[0,:(150+go_to_peak),:2] = start_point[0]\n",
    "# tt= target[0]\n",
    "\n",
    "# target[0,(150+go_to_peak):,:2] = end_point[0]\n",
    "# tt = target[0]\n",
    "\n",
    "# print(end_point[0]-start_point[0])\n",
    "\n",
    "# target[0,(150-go_to_peak):(150+go_to_peak),:2] += \\\n",
    "#                 ytemp[:,None]*(end_point[0]-start_point[0])[None,:]\n",
    "# tt = target[0]\n",
    "\n",
    "# target[0,:,2:] = np.gradient(target[0,:,:2],dt,axis=1)\n",
    "# tt = target[0]"
   ]
  },
  {
   "cell_type": "code",
   "execution_count": null,
   "metadata": {},
   "outputs": [],
   "source": [
    "# # toy for understanding \n",
    "\n",
    "# stimulus = np.zeros((2,tsteps,input_dim)) # 2 x 300 x 7\n",
    "# print(stimulus.shape)\n",
    "\n",
    "# # loading the velocity\n",
    "# stimulus[:,:,3:5] = target[:,:,2:]\n",
    "# tx = stimulus[0]\n",
    "\n",
    "# # loading the position\n",
    "# stimulus[:,:,5:] = target[:,:,:2]\n",
    "# tx = stimulus[0]\n",
    "\n",
    "# # loading the endpoint-startpoint values (after stim_on rows)\n",
    "# stimulus[0,stim_on:,:2] = end_point[0]-start_point[0] # visible endpoint position signal\n",
    "# tx = stimulus[0]\n",
    "\n",
    "# # loading hold signal from beginnning until (go_on-go_to_peak) rows\n",
    "# stimulus[0,:(150-50),2] = 43 # hold signal\n",
    "# tx = stimulus[0]"
   ]
  },
  {
   "cell_type": "markdown",
   "metadata": {},
   "source": [
    "### Function to prep data"
   ]
  },
  {
   "cell_type": "code",
   "execution_count": 33,
   "metadata": {},
   "outputs": [],
   "source": [
    "def _prepare_data(start_point,end_point,go_on,vel,tsteps,input_dim,\n",
    "                  output_dim,dt,stim_range,go_to_peak,stim_on):\n",
    "    \"\"\"\n",
    "    Prepare data for RNN training by generating target and stimulus arrays.\n",
    "    Parameters:\n",
    "    start_point (np.ndarray): Starting points for each trial, shape (ntrials, 2).\n",
    "    end_point (np.ndarray): Ending points for each trial, shape (ntrials, 2).\n",
    "    go_on (np.ndarray): Time steps at which the transition starts for each trial, shape (ntrials,).\n",
    "    vel (float): Velocity parameter for the sigmoid function.\n",
    "    tsteps (int): Total number of time steps.\n",
    "    input_dim (int): Dimensionality of the input data.\n",
    "    output_dim (int): Dimensionality of the output data.\n",
    "    dt (float): Time step duration.\n",
    "    stim_range (float): Range of the stimulus. Hold Signal. Used as output_range[1]\n",
    "    go_to_peak (int): Number of time steps to reach the peak.\n",
    "    stim_on (int): Time step at which the stimulus is turned on.\n",
    "\n",
    "    Returns:\n",
    "    tuple: A tuple containing:\n",
    "        - target (np.ndarray): Target data for each trial, shape (ntrials, tsteps, output_dim).\n",
    "            first two dimensions are the position, last two dimensions are the velocity\n",
    "            !it is target data for every time bin, not just the endpoint\n",
    "        - stimulus (np.ndarray): Stimulus data for each trial, shape (ntrials, tsteps, input_dim).\n",
    "            dim [5-6] = first two dimensions of target mvt (so position)\n",
    "            dim [3-4] = last two dimensions of target mvt (so velolcity)\n",
    "            dim [0-1] = beforfe stim_on it is zero, after stim_on it is end_point-start_point\n",
    "            dim 2 = before go_on[k]-go_to_peak = 0, after = stim_range (hold signal)\n",
    "    \"\"\"\n",
    "\n",
    "    # start point = (ntrials x 2), here 2000 x 2\n",
    "    ntrials = start_point.shape[0] #ntrials = 2000\n",
    "\n",
    "    # sigmoid function for velocity scaling\n",
    "    def sig(x,beta):\n",
    "        return 1/(1+np.exp(-x*beta))\n",
    "    \n",
    "    # prepare xaxis for smooth transition\n",
    "    xx = np.linspace(-1,1,100,endpoint=False) # 100 points between -1 and 1\n",
    "    \n",
    "    # yaxis prepared using sigmoid, veloctiy squished from 10 to [0,1]\n",
    "    ytemp = sig(xx,vel) #100 points between 0 and 1\n",
    "    \n",
    "    # create target, at first initialize with 0\n",
    "    # first two columns are postions\n",
    "    # last two columns are velocity\n",
    "    target = np.zeros((ntrials,tsteps,output_dim)) # 2000 x 300 x 4\n",
    "\n",
    "    for j in range(ntrials):\n",
    "        # for each trial, set first two columns from row 0 to row (go_on[j] + go_to_peak) as start_point[j] \n",
    "        target[j,:(go_on[j]+go_to_peak),:2] = start_point[j]\n",
    "        # for each trial, set first two columns from row(go_on[j] + go_to_peak) to the last row as end_point[j] \n",
    "        target[j,(go_on[j]+go_to_peak):,:2] = end_point[j]  \n",
    "        # for each trial, set first 2 columns from row (go_on[j]-go_to_peak) to (go_on[j]+go_to_peak) as the \"formula\"\n",
    "        # this is the \"trajectory\" ??\n",
    "        target[j,(go_on[j]-go_to_peak):(go_on[j]+go_to_peak),:2] += \\\n",
    "                ytemp[:,None]*(end_point[j]-start_point[j])[None,:]\n",
    "    \n",
    "    # add target velocity\n",
    "    target[:,:,2:] = np.gradient(target[:,:,:2],dt,axis=1)\n",
    "    \n",
    "    # create stimulus\n",
    "    stimulus = np.zeros((ntrials,tsteps,input_dim))\n",
    "\n",
    "    #just copy pasting the \"target\" array into the last 4 columns of this array\n",
    "    #careful about the ordering \n",
    "\n",
    "    stimulus[:,:,3:5] = target[:,:,2:]\n",
    "    stimulus[:,:,5:] = target[:,:,:2]\n",
    "    for j in range(ntrials):\n",
    "        # first two columns are endpoints - start point. Filled after \"stim_on\" rows\n",
    "        stimulus[j,stim_on:,:2] = end_point[j]-start_point[j] # visible endpoint position signal\n",
    "\n",
    "        # 3rd column, it is filled with hold signal (the output_dim[1] or 6 in Random reach)\n",
    "        # so 34d column is filled with 6 from row 0 to row (go_on[j]-go_to_peak) \n",
    "        stimulus[j,:(go_on[j]-go_to_peak),2] = stim_range # hold signal\n",
    "    return target,stimulus # target shape is (ntrials, 300, 4), stimulus shape is (ntrials, 300, 7)\n"
   ]
  },
  {
   "cell_type": "code",
   "execution_count": 9,
   "metadata": {},
   "outputs": [],
   "source": [
    "# arr2d = np.array([[1, 2], [3, 5], [6, 10]])\n",
    "# print(arr2d)\n",
    "# x = np.gradient(arr2d,0.01, axis=1)\n",
    "# x"
   ]
  },
  {
   "cell_type": "markdown",
   "metadata": {},
   "source": [
    "### Function to create dataset 1"
   ]
  },
  {
   "cell_type": "code",
   "execution_count": 34,
   "metadata": {},
   "outputs": [],
   "source": [
    "def create_data_velocity_random(data_params):\n",
    "    # PARAMS #################################\n",
    "    ntrials = data_params['ntrials'] #2000\n",
    "    tsteps = data_params['tsteps'] # 300\n",
    "    dt = data_params['dt'] # 0.01\n",
    "    output_dim = data_params['output_dim'] # 4\n",
    "    input_dim = data_params['input_dim'] # 7\n",
    "    vel = data_params['vel'] # 10\n",
    "    p_test = data_params['p_test'] # 0.1\n",
    "    go_to_peak = data_params['go_to_peak'] # 50\n",
    "    stim_on = data_params['stim_on'] # 20\n",
    "    output_range = data_params['random']['output_range'] # -6,6\n",
    "    go_range = data_params['random']['go_range'] # 70,220\n",
    "    ##########################################\n",
    "    \n",
    "    # create artifical data\n",
    "    start_point = np.random.uniform(output_range[0],output_range[1],(ntrials,2)) # uniform random numbers between -6,6 of shape (2000,2)\n",
    "    end_point = np.random.uniform(output_range[0],output_range[1],(ntrials,2)) # uniform random numbers between -6,6 of shape (2000,2)\n",
    "    go_on = np.random.uniform(go_range[0],go_range[1],ntrials).astype(int) # 2000 random numbers between 70 and 220, transition start time\n",
    "    \n",
    "    print(output_range[1])\n",
    "    target,stimulus = _prepare_data(start_point, \n",
    "                                    end_point, \n",
    "                                    go_on, \n",
    "                                    vel, \n",
    "                                    tsteps,\n",
    "                                    input_dim,\n",
    "                                    output_dim,\n",
    "                                    dt,\n",
    "                                    output_range[1],\n",
    "                                    go_to_peak,\n",
    "                                    stim_on)\n",
    "\n",
    "    # create testset\n",
    "    test_idx = np.random.rand(ntrials)<p_test\n",
    "    print(len(test_idx))\n",
    "\n",
    "    test_set = {'target':target[test_idx],'stimulus':stimulus[test_idx],\n",
    "                 'peak_speed':go_on[test_idx]}\n",
    "    train_idx = test_idx==False\n",
    "    \n",
    "    # save it\n",
    "    data = {'params':data_params,'target':target[train_idx],\n",
    "           'peak_speed':go_on[train_idx],'stimulus':stimulus[train_idx],\n",
    "           'test_set':test_set}\n",
    "    \n",
    "    print('RANDOM REACH DATASET CONSTRUCTED!')\n",
    "    return data"
   ]
  },
  {
   "cell_type": "code",
   "execution_count": 43,
   "metadata": {},
   "outputs": [
    {
     "name": "stdout",
     "output_type": "stream",
     "text": [
      "6\n",
      "2000\n",
      "RANDOM REACH DATASET CONSTRUCTED!\n",
      "Training trails = 1796\n"
     ]
    },
    {
     "data": {
      "image/png": "[encoded data removed]",
      "text/plain": [
       "<Figure size 600x400 with 1 Axes>"
      ]
     },
     "metadata": {},
     "output_type": "display_data"
    }
   ],
   "source": [
    "x = create_data_velocity_random(data_params)\n",
    "x.keys()\n",
    "stim = x['stimulus']\n",
    "targ = x['target']\n",
    "\n",
    "print(f\"Training trails = {len(x['stimulus'])}\")\n",
    "\n",
    "plt.figure(figsize=(6,4))\n",
    "for i in range(30):\n",
    "    trial = np.random.randint(0,len(x['stimulus']))\n",
    "    stim_1 = stim[trial]\n",
    "    px = stim_1[:,5]\n",
    "    py = stim_1[:,6]\n",
    "    plt.scatter(px,py, s=5, lw=1)\n",
    "    plt.title(\"30 random reaches from training trials\")\n",
    "    plt.xlabel(\"Cm Y Dir\")\n",
    "    plt.ylabel(\"Cm X Dir\")\n",
    "plt.show()"
   ]
  },
  {
   "cell_type": "markdown",
   "metadata": {},
   "source": [
    "### Function to create dataset 2"
   ]
  },
  {
   "cell_type": "code",
   "execution_count": 7,
   "metadata": {},
   "outputs": [],
   "source": [
    "def create_data_velocity_centeroutreach(data):\n",
    "    # PARAMS #################################\n",
    "    ntrials = data['ntrials']\n",
    "    tsteps = data['tsteps']\n",
    "    dt = data['dt']\n",
    "    output_dim = data['output_dim']\n",
    "    input_dim = data['input_dim']\n",
    "    vel = data['vel']\n",
    "    p_test = data['p_test']\n",
    "    go_to_peak = data['go_to_peak']\n",
    "    stim_on = data['stim_on']\n",
    "    output_range = data['center-out-reach']['output_range']\n",
    "    go_range = data['center-out-reach']['go_range']\n",
    "    ntargets = data['center-out-reach']['ntargets']\n",
    "    ##########################################\n",
    "    \n",
    "    # create artifical data\n",
    "    start_point = np.zeros((ntrials,2))\n",
    "    phi = np.linspace(0,2*np.pi,ntargets,endpoint=False)\n",
    "    tids = np.random.choice(range(ntargets),ntrials)\n",
    "    end_point = (output_range*np.array([np.cos(phi[tids]),np.sin(phi[tids])])).T\n",
    "    go_on = np.random.uniform(go_range[0],go_range[1],ntrials).astype(int)\n",
    "    \n",
    "    target,stimulus = _prepare_data(start_point, end_point, go_on, vel, tsteps,\n",
    "                                    input_dim,output_dim,dt,output_range,\n",
    "                                    go_to_peak,stim_on)\n",
    "\n",
    "    # create testset\n",
    "    test_idx = np.random.rand(ntrials)<p_test\n",
    "    test_set = {'target':target[test_idx],'stimulus':stimulus[test_idx],\n",
    "                 'peak_speed':go_on[test_idx],'tids':tids[test_idx]}\n",
    "    train_idx = test_idx==False\n",
    "    \n",
    "    # save it\n",
    "    data = {'params':data,'target':target[train_idx],\n",
    "           'peak_speed':go_on[train_idx],'stimulus':stimulus[train_idx],\n",
    "           'test_set':test_set,'tids':tids[train_idx]}\n",
    "    \n",
    "    print('CENTER OUT REACH DATASET CONSTRUCTED!')\n",
    "    return data\n"
   ]
  },
  {
   "cell_type": "code",
   "execution_count": 20,
   "metadata": {},
   "outputs": [
    {
     "name": "stdout",
     "output_type": "stream",
     "text": [
      "CENTER OUT REACH DATASET CONSTRUCTED!\n",
      "Training trials = 1789\n"
     ]
    },
    {
     "data": {
      "image/png": "[encoded data removed]",
      "text/plain": [
       "<Figure size 600x400 with 1 Axes>"
      ]
     },
     "metadata": {},
     "output_type": "display_data"
    }
   ],
   "source": [
    "x = create_data_velocity_centeroutreach(data_params)\n",
    "\n",
    "stim = x['stimulus']\n",
    "targ = x['target']\n",
    "\n",
    "print(f\"Training trials = {len(x['stimulus'])}\")\n",
    "\n",
    "plt.figure(figsize=(6,4))\n",
    "for i in range(30):\n",
    "    trial = np.random.randint(0,len(x['stimulus']))\n",
    "    stim_1 = stim[trial]\n",
    "    plt.scatter(stim_1[:,5],stim_1[:,6], s=5, lw=1)\n",
    "    plt.title(\"30 center out reaches from training trials\")\n",
    "    plt.xlabel(\"Cm X Dir\")\n",
    "    plt.ylabel(\"Cm Y Dir\")\n",
    "plt.show()"
   ]
  },
  {
   "cell_type": "markdown",
   "metadata": {},
   "source": [
    "### Function to create random perturbation"
   ]
  },
  {
   "cell_type": "code",
   "execution_count": null,
   "metadata": {},
   "outputs": [],
   "source": [
    "def perturb(tdat,batch_size,dpert):\n",
    "    '''\n",
    "    generate trajectory _velocity_ perturbations \n",
    "\n",
    "    dpert is a dictionary with the following keys (example)\n",
    "    dpert = {'pratio':0.5 -- ratio of trajectories recieveing perturbation,\n",
    "             'halflength':10, -- num of timebins of perturbation (velocity bump)\n",
    "             'from':20,\n",
    "             'upto':200,\n",
    "             'amp':10}\n",
    "    '''\n",
    "    pratio = dpert['pratio']\n",
    "    halflength = dpert['halflength']\n",
    "    for i in range(batch_size):\n",
    "        # run random twice to perturn first or sedond coordinate\n",
    "        for coordi in [0,1]:\n",
    "            if np.random.rand()<pratio:\n",
    "                tmp = int(np.random.choice(range(dpert['from'],dpert['upto'],1),1)[0])\n",
    "                tdat[(tmp-halflength):(tmp+halflength),i,coordi] = dpert['amp']\n",
    "\n",
    "        # if np.random.rand()<pratio:\n",
    "        #     tmp = int(np.random.choice(range(dpert['from'],dpert['upto'],1),1)[0])\n",
    "        #     tdat[(tmp-halflength):(tmp+halflength),i,0] = dpert['amp']\n",
    "        # if np.random.rand()<pratio:\n",
    "        #     tmp = int(np.random.choice(range(dpert['from'],dpert['upto'],1),1)[0])\n",
    "        #     tdat[(tmp-halflength):(tmp+halflength),i,1] = dpert['amp']\n",
    "    return tdat"
   ]
  },
  {
   "cell_type": "code",
   "execution_count": 50,
   "metadata": {},
   "outputs": [
    {
     "data": {
      "text/plain": [
       "array([1668, 1274,  665, 1729,   69,   58, 1464,  277, 1478,  765,  367,\n",
       "       1459, 1727, 1752,  988,  113,   31,  556, 1252,  684])"
      ]
     },
     "execution_count": 50,
     "metadata": {},
     "output_type": "execute_result"
    }
   ],
   "source": [
    "idx = np.random.choice(1802,20,replace=False)\n",
    "idx"
   ]
  }
 ],
 "metadata": {
  "kernelspec": {
   "display_name": "Python 3",
   "language": "python",
   "name": "python3"
  },
  "language_info": {
   "codemirror_mode": {
    "name": "ipython",
    "version": 3
   },
   "file_extension": ".py",
   "mimetype": "text/x-python",
   "name": "python",
   "nbconvert_exporter": "python",
   "pygments_lexer": "ipython3",
   "version": "3.12.9"
  }
 },
 "nbformat": 4,
 "nbformat_minor": 2
}
